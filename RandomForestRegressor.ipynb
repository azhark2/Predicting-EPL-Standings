{
 "cells": [
  {
   "cell_type": "code",
   "execution_count": 2,
   "metadata": {
    "collapsed": false
   },
   "outputs": [],
   "source": [
    "#read in NORMALIZED data\n",
    "import pandas as pd\n",
    "df = pd.read_csv('team_attributes_processed-2009-2010.csv')\n",
    "df2 = pd.read_csv('team_attributes_processed-2010-2011.csv')\n",
    "df3 = pd.read_csv('team_attributes_processed-2011-2012.csv')\n",
    "df4 = pd.read_csv('team_attributes_processed-2013-2014.csv')\n",
    "df5 = pd.read_csv('team_attributes_processed-2014-2015.csv')\n"
   ]
  },
  {
   "cell_type": "code",
   "execution_count": 3,
   "metadata": {
    "collapsed": true
   },
   "outputs": [],
   "source": [
    "#concatenate separate seasons \n",
    "frames = [df, df2, df3, df4, df5]\n",
    "result = pd.concat(frames)"
   ]
  },
  {
   "cell_type": "code",
   "execution_count": 4,
   "metadata": {
    "collapsed": false
   },
   "outputs": [
    {
     "data": {
      "text/plain": [
       "(100, 28)"
      ]
     },
     "execution_count": 4,
     "metadata": {},
     "output_type": "execute_result"
    }
   ],
   "source": [
    "result.shape"
   ]
  },
  {
   "cell_type": "code",
   "execution_count": 5,
   "metadata": {
    "collapsed": false
   },
   "outputs": [
    {
     "data": {
      "text/html": [
       "<div>\n",
       "<table border=\"1\" class=\"dataframe\">\n",
       "  <thead>\n",
       "    <tr style=\"text-align: right;\">\n",
       "      <th></th>\n",
       "      <th>Unnamed: 0</th>\n",
       "      <th>Team</th>\n",
       "      <th>Season</th>\n",
       "      <th>buildUpPlaySpeed</th>\n",
       "      <th>buildUpPlayDribbling</th>\n",
       "      <th>buildUpPlayPassing</th>\n",
       "      <th>chanceCreationPassing</th>\n",
       "      <th>chanceCreationCrossing</th>\n",
       "      <th>chanceCreationShooting</th>\n",
       "      <th>defencePressure</th>\n",
       "      <th>...</th>\n",
       "      <th>chanceCreationShootingClass</th>\n",
       "      <th>chanceCreationPositioningClass</th>\n",
       "      <th>defencePressureClass</th>\n",
       "      <th>defenceTeamWidthClass</th>\n",
       "      <th>defenceAggressionClass_Press</th>\n",
       "      <th>defenceAggressionClass_Double</th>\n",
       "      <th>defenceAggressionClass_Contain</th>\n",
       "      <th>defenceDefenderLineClass_Cover</th>\n",
       "      <th>defenceDefenderLineClass_Offside Trap</th>\n",
       "      <th>Score</th>\n",
       "    </tr>\n",
       "  </thead>\n",
       "  <tbody>\n",
       "    <tr>\n",
       "      <th>0</th>\n",
       "      <td>0</td>\n",
       "      <td>Chelsea</td>\n",
       "      <td>2009/2010</td>\n",
       "      <td>0.838948</td>\n",
       "      <td>0.0</td>\n",
       "      <td>0.040464</td>\n",
       "      <td>-0.322535</td>\n",
       "      <td>0.345547</td>\n",
       "      <td>1.288855</td>\n",
       "      <td>-1.011775</td>\n",
       "      <td>...</td>\n",
       "      <td>3</td>\n",
       "      <td>0</td>\n",
       "      <td>1</td>\n",
       "      <td>2</td>\n",
       "      <td>1</td>\n",
       "      <td>0</td>\n",
       "      <td>0</td>\n",
       "      <td>1</td>\n",
       "      <td>0</td>\n",
       "      <td>86</td>\n",
       "    </tr>\n",
       "    <tr>\n",
       "      <th>1</th>\n",
       "      <td>1</td>\n",
       "      <td>Manchester United</td>\n",
       "      <td>2009/2010</td>\n",
       "      <td>0.838948</td>\n",
       "      <td>0.0</td>\n",
       "      <td>-1.063111</td>\n",
       "      <td>-1.187872</td>\n",
       "      <td>0.345547</td>\n",
       "      <td>0.802495</td>\n",
       "      <td>-0.275939</td>\n",
       "      <td>...</td>\n",
       "      <td>2</td>\n",
       "      <td>0</td>\n",
       "      <td>2</td>\n",
       "      <td>2</td>\n",
       "      <td>1</td>\n",
       "      <td>0</td>\n",
       "      <td>0</td>\n",
       "      <td>1</td>\n",
       "      <td>0</td>\n",
       "      <td>85</td>\n",
       "    </tr>\n",
       "    <tr>\n",
       "      <th>2</th>\n",
       "      <td>2</td>\n",
       "      <td>Arsenal</td>\n",
       "      <td>2009/2010</td>\n",
       "      <td>0.205780</td>\n",
       "      <td>0.0</td>\n",
       "      <td>-2.166686</td>\n",
       "      <td>-2.367878</td>\n",
       "      <td>-3.973795</td>\n",
       "      <td>-2.115668</td>\n",
       "      <td>-1.011775</td>\n",
       "      <td>...</td>\n",
       "      <td>2</td>\n",
       "      <td>0</td>\n",
       "      <td>1</td>\n",
       "      <td>2</td>\n",
       "      <td>1</td>\n",
       "      <td>0</td>\n",
       "      <td>0</td>\n",
       "      <td>1</td>\n",
       "      <td>0</td>\n",
       "      <td>75</td>\n",
       "    </tr>\n",
       "    <tr>\n",
       "      <th>3</th>\n",
       "      <td>3</td>\n",
       "      <td>Tottenham Hotspur</td>\n",
       "      <td>2009/2010</td>\n",
       "      <td>0.838948</td>\n",
       "      <td>0.0</td>\n",
       "      <td>-0.695252</td>\n",
       "      <td>-0.794537</td>\n",
       "      <td>-0.518321</td>\n",
       "      <td>-0.656587</td>\n",
       "      <td>0.459898</td>\n",
       "      <td>...</td>\n",
       "      <td>2</td>\n",
       "      <td>1</td>\n",
       "      <td>2</td>\n",
       "      <td>2</td>\n",
       "      <td>1</td>\n",
       "      <td>0</td>\n",
       "      <td>0</td>\n",
       "      <td>1</td>\n",
       "      <td>0</td>\n",
       "      <td>70</td>\n",
       "    </tr>\n",
       "    <tr>\n",
       "      <th>4</th>\n",
       "      <td>4</td>\n",
       "      <td>Manchester City</td>\n",
       "      <td>2009/2010</td>\n",
       "      <td>0.838948</td>\n",
       "      <td>0.0</td>\n",
       "      <td>0.040464</td>\n",
       "      <td>-0.401202</td>\n",
       "      <td>0.345547</td>\n",
       "      <td>1.288855</td>\n",
       "      <td>0.091980</td>\n",
       "      <td>...</td>\n",
       "      <td>3</td>\n",
       "      <td>1</td>\n",
       "      <td>2</td>\n",
       "      <td>2</td>\n",
       "      <td>1</td>\n",
       "      <td>0</td>\n",
       "      <td>0</td>\n",
       "      <td>1</td>\n",
       "      <td>0</td>\n",
       "      <td>67</td>\n",
       "    </tr>\n",
       "  </tbody>\n",
       "</table>\n",
       "<p>5 rows × 28 columns</p>\n",
       "</div>"
      ],
      "text/plain": [
       "   Unnamed: 0               Team     Season  buildUpPlaySpeed  \\\n",
       "0           0            Chelsea  2009/2010          0.838948   \n",
       "1           1  Manchester United  2009/2010          0.838948   \n",
       "2           2            Arsenal  2009/2010          0.205780   \n",
       "3           3  Tottenham Hotspur  2009/2010          0.838948   \n",
       "4           4    Manchester City  2009/2010          0.838948   \n",
       "\n",
       "   buildUpPlayDribbling  buildUpPlayPassing  chanceCreationPassing  \\\n",
       "0                   0.0            0.040464              -0.322535   \n",
       "1                   0.0           -1.063111              -1.187872   \n",
       "2                   0.0           -2.166686              -2.367878   \n",
       "3                   0.0           -0.695252              -0.794537   \n",
       "4                   0.0            0.040464              -0.401202   \n",
       "\n",
       "   chanceCreationCrossing  chanceCreationShooting  defencePressure  ...    \\\n",
       "0                0.345547                1.288855        -1.011775  ...     \n",
       "1                0.345547                0.802495        -0.275939  ...     \n",
       "2               -3.973795               -2.115668        -1.011775  ...     \n",
       "3               -0.518321               -0.656587         0.459898  ...     \n",
       "4                0.345547                1.288855         0.091980  ...     \n",
       "\n",
       "   chanceCreationShootingClass  chanceCreationPositioningClass  \\\n",
       "0                            3                               0   \n",
       "1                            2                               0   \n",
       "2                            2                               0   \n",
       "3                            2                               1   \n",
       "4                            3                               1   \n",
       "\n",
       "   defencePressureClass  defenceTeamWidthClass  defenceAggressionClass_Press  \\\n",
       "0                     1                      2                             1   \n",
       "1                     2                      2                             1   \n",
       "2                     1                      2                             1   \n",
       "3                     2                      2                             1   \n",
       "4                     2                      2                             1   \n",
       "\n",
       "   defenceAggressionClass_Double  defenceAggressionClass_Contain  \\\n",
       "0                              0                               0   \n",
       "1                              0                               0   \n",
       "2                              0                               0   \n",
       "3                              0                               0   \n",
       "4                              0                               0   \n",
       "\n",
       "   defenceDefenderLineClass_Cover  defenceDefenderLineClass_Offside Trap  \\\n",
       "0                               1                                      0   \n",
       "1                               1                                      0   \n",
       "2                               1                                      0   \n",
       "3                               1                                      0   \n",
       "4                               1                                      0   \n",
       "\n",
       "   Score  \n",
       "0     86  \n",
       "1     85  \n",
       "2     75  \n",
       "3     70  \n",
       "4     67  \n",
       "\n",
       "[5 rows x 28 columns]"
      ]
     },
     "execution_count": 5,
     "metadata": {},
     "output_type": "execute_result"
    }
   ],
   "source": [
    "result.head()"
   ]
  },
  {
   "cell_type": "code",
   "execution_count": 6,
   "metadata": {
    "collapsed": true
   },
   "outputs": [],
   "source": [
    "\n",
    "X = result.iloc[:, 3:-1]\n",
    "y = result['Score']\n"
   ]
  },
  {
   "cell_type": "code",
   "execution_count": 7,
   "metadata": {
    "collapsed": false
   },
   "outputs": [
    {
     "name": "stdout",
     "output_type": "stream",
     "text": [
      "<class 'pandas.core.frame.DataFrame'>\n",
      "Int64Index: 100 entries, 0 to 19\n",
      "Data columns (total 24 columns):\n",
      "buildUpPlaySpeed                         100 non-null float64\n",
      "buildUpPlayDribbling                     100 non-null float64\n",
      "buildUpPlayPassing                       100 non-null float64\n",
      "chanceCreationPassing                    100 non-null float64\n",
      "chanceCreationCrossing                   100 non-null float64\n",
      "chanceCreationShooting                   100 non-null float64\n",
      "defencePressure                          100 non-null float64\n",
      "defenceAggression                        100 non-null float64\n",
      "defenceTeamWidth                         100 non-null float64\n",
      "buildUpPlaySpeedClass                    100 non-null int64\n",
      "buildUpPlayDribblingClass                100 non-null int64\n",
      "buildUpPlayPassingClass                  100 non-null int64\n",
      "buildUpPlayPositioningClass              100 non-null int64\n",
      "chanceCreationPassingClass               100 non-null int64\n",
      "chanceCreationCrossingClass              100 non-null int64\n",
      "chanceCreationShootingClass              100 non-null int64\n",
      "chanceCreationPositioningClass           100 non-null int64\n",
      "defencePressureClass                     100 non-null int64\n",
      "defenceTeamWidthClass                    100 non-null int64\n",
      "defenceAggressionClass_Press             100 non-null int64\n",
      "defenceAggressionClass_Double            100 non-null int64\n",
      "defenceAggressionClass_Contain           100 non-null int64\n",
      "defenceDefenderLineClass_Cover           100 non-null int64\n",
      "defenceDefenderLineClass_Offside Trap    100 non-null int64\n",
      "dtypes: float64(9), int64(15)\n",
      "memory usage: 19.5 KB\n"
     ]
    }
   ],
   "source": [
    "X.head()\n",
    "X.info()"
   ]
  },
  {
   "cell_type": "code",
   "execution_count": 8,
   "metadata": {
    "collapsed": false
   },
   "outputs": [
    {
     "data": {
      "text/plain": [
       "(100,)"
      ]
     },
     "execution_count": 8,
     "metadata": {},
     "output_type": "execute_result"
    }
   ],
   "source": [
    "y.shape"
   ]
  },
  {
   "cell_type": "code",
   "execution_count": 9,
   "metadata": {
    "collapsed": false
   },
   "outputs": [
    {
     "name": "stderr",
     "output_type": "stream",
     "text": [
      "/Users/khandekara2/anaconda3/lib/python3.6/site-packages/sklearn/cross_validation.py:44: DeprecationWarning: This module was deprecated in version 0.18 in favor of the model_selection module into which all the refactored classes and functions are moved. Also note that the interface of the new CV iterators are different from that of this module. This module will be removed in 0.20.\n",
      "  \"This module will be removed in 0.20.\", DeprecationWarning)\n",
      "/Users/khandekara2/anaconda3/lib/python3.6/site-packages/sklearn/grid_search.py:43: DeprecationWarning: This module was deprecated in version 0.18 in favor of the model_selection module into which all the refactored classes and functions are moved. This module will be removed in 0.20.\n",
      "  DeprecationWarning)\n"
     ]
    }
   ],
   "source": [
    "import matplotlib.pyplot as plt\n",
    "import numpy as np\n",
    "import pandas as pd\n",
    "from sklearn.ensemble import RandomForestRegressor\n",
    "from sklearn.cross_validation import train_test_split\n",
    "from sklearn.grid_search import GridSearchCV\n",
    "from sklearn import decomposition\n"
   ]
  },
  {
   "cell_type": "code",
   "execution_count": 10,
   "metadata": {
    "collapsed": false
   },
   "outputs": [
    {
     "data": {
      "text/plain": [
       "RandomForestRegressor(bootstrap=True, criterion='mse', max_depth=None,\n",
       "           max_features='auto', max_leaf_nodes=None,\n",
       "           min_impurity_split=1e-07, min_samples_leaf=1,\n",
       "           min_samples_split=2, min_weight_fraction_leaf=0.0,\n",
       "           n_estimators=10, n_jobs=1, oob_score=False, random_state=3,\n",
       "           verbose=0, warm_start=False)"
      ]
     },
     "execution_count": 10,
     "metadata": {},
     "output_type": "execute_result"
    }
   ],
   "source": [
    "#instantiate regressor, and split data into training and testing\n",
    "regressor = RandomForestRegressor(random_state = 3)\n",
    "X_train, X_test, y_train, y_test = train_test_split(X, y, test_size = 0.3, random_state=0)\n",
    "regressor.fit(X_train, y_train)"
   ]
  },
  {
   "cell_type": "code",
   "execution_count": 11,
   "metadata": {
    "collapsed": false
   },
   "outputs": [
    {
     "data": {
      "text/plain": [
       "array([  3.45387223e-02,   1.91471770e-02,   2.55036476e-01,\n",
       "         1.41499005e-01,   2.93008702e-02,   1.11611289e-01,\n",
       "         6.75389480e-02,   3.38407563e-02,   6.82521581e-02,\n",
       "         7.08294302e-03,   2.72428053e-04,   6.88898829e-03,\n",
       "         9.49283024e-04,   1.47516800e-05,   9.70096365e-04,\n",
       "         2.99828769e-02,   1.91166841e-01,   7.41584196e-04,\n",
       "         4.04623858e-04,   6.51471868e-04,   1.08709128e-04,\n",
       "         0.00000000e+00,   0.00000000e+00,   0.00000000e+00])"
      ]
     },
     "execution_count": 11,
     "metadata": {},
     "output_type": "execute_result"
    }
   ],
   "source": [
    "regressor.feature_importances_"
   ]
  },
  {
   "cell_type": "code",
   "execution_count": 22,
   "metadata": {
    "collapsed": false
   },
   "outputs": [
    {
     "data": {
      "text/plain": [
       "GridSearchCV(cv=5, error_score='raise',\n",
       "       estimator=RandomForestRegressor(bootstrap=True, criterion='mse', max_depth=None,\n",
       "           max_features='auto', max_leaf_nodes=None,\n",
       "           min_impurity_split=1e-07, min_samples_leaf=1,\n",
       "           min_samples_split=2, min_weight_fraction_leaf=0.0,\n",
       "           n_estimators=10, n_jobs=1, oob_score=False, random_state=3,\n",
       "           verbose=0, warm_start=False),\n",
       "       fit_params={}, iid=True, n_jobs=1,\n",
       "       param_grid={'n_estimators': [250, 300, 500], 'max_features': [1, 2, 3, 4, 5, 6, 7, 8, 9, 10, 11, 12, 13, 14, 15, 16, 17, 18, 19, 20, 21, 22, 23, 24]},\n",
       "       pre_dispatch='2*n_jobs', refit=True, scoring=None, verbose=0)"
      ]
     },
     "execution_count": 22,
     "metadata": {},
     "output_type": "execute_result"
    }
   ],
   "source": [
    "#set up grid search to find optimal values for n_estimators and max_features\n",
    "max_features = [i for i in range(1, 25)]\n",
    "param_grid = { \"n_estimators\" : [250, 300, 500], \"max_features\": max_features} #dictionary that maps parameters to list of values that need to be optimized\n",
    "grid = GridSearchCV(regressor, param_grid, cv=5)\n",
    "grid.fit(X_train, y_train)\n",
    "           \n",
    "           "
   ]
  },
  {
   "cell_type": "code",
   "execution_count": 23,
   "metadata": {
    "collapsed": false
   },
   "outputs": [
    {
     "name": "stdout",
     "output_type": "stream",
     "text": [
      "The best model parameters are: {'max_features': 3, 'n_estimators': 300}\n"
     ]
    }
   ],
   "source": [
    "print('The best model parameters are:', grid.best_params_)"
   ]
  },
  {
   "cell_type": "code",
   "execution_count": 24,
   "metadata": {
    "collapsed": true
   },
   "outputs": [],
   "source": [
    "y_true, y_pred = y_test, grid.predict(X_test)"
   ]
  },
  {
   "cell_type": "code",
   "execution_count": 25,
   "metadata": {
    "collapsed": false
   },
   "outputs": [
    {
     "data": {
      "text/plain": [
       "<matplotlib.text.Text at 0x11dfa3080>"
      ]
     },
     "execution_count": 25,
     "metadata": {},
     "output_type": "execute_result"
    },
    {
     "data": {
      "image/png": "[encoded data removed]",
      "text/plain": [
       "<matplotlib.figure.Figure at 0x11dec3898>"
      ]
     },
     "metadata": {},
     "output_type": "display_data"
    }
   ],
   "source": [
    "%matplotlib inline\n",
    "plt.plot(y_pred, y_true, 'k.')\n",
    "plt.xlabel(\"Predicted Points Tally\")\n",
    "plt.ylabel(\"Actual Points Tally\")"
   ]
  },
  {
   "cell_type": "code",
   "execution_count": 26,
   "metadata": {
    "collapsed": true
   },
   "outputs": [],
   "source": [
    "from sklearn.metrics import explained_variance_score\n",
    "from sklearn.metrics import mean_absolute_error\n",
    "from sklearn.metrics import mean_squared_error"
   ]
  },
  {
   "cell_type": "code",
   "execution_count": 27,
   "metadata": {
    "collapsed": true
   },
   "outputs": [],
   "source": [
    "#compute various error metrics to get a sense of performance\n",
    "mae = mean_absolute_error(y_true, y_pred)\n",
    "mse = mean_squared_error(y_true, y_pred)"
   ]
  },
  {
   "cell_type": "code",
   "execution_count": 28,
   "metadata": {
    "collapsed": false
   },
   "outputs": [
    {
     "name": "stdout",
     "output_type": "stream",
     "text": [
      "Mean Absolute Error: 11\n",
      "Mean Squared Error: 193\n"
     ]
    }
   ],
   "source": [
    "\n",
    "print ('Mean Absolute Error: %d' %(mae))\n",
    "print ('Mean Squared Error: %d' %(mse))"
   ]
  },
  {
   "cell_type": "code",
   "execution_count": 29,
   "metadata": {
    "collapsed": false
   },
   "outputs": [
    {
     "name": "stdout",
     "output_type": "stream",
     "text": [
      "Mean Absolute Error: 12\n",
      "Mean Squared Error: 212\n"
     ]
    }
   ],
   "source": [
    "#test how a \"dummy regressor\"(one that always predicts the mean of the data) does\n",
    "from sklearn.dummy import DummyRegressor\n",
    "dummy = DummyRegressor(strategy='mean')\n",
    "dummy.fit(X_train, y_train)\n",
    "y_pred = dummy.predict(X_test)\n",
    "evs = explained_variance_score(y_true, y_pred)\n",
    "mae = mean_absolute_error(y_true, y_pred)\n",
    "mse = mean_squared_error(y_true, y_pred)\n",
    "\n",
    "print ('Mean Absolute Error: %d' %(mae))\n",
    "print ('Mean Squared Error: %d' %(mse))"
   ]
  },
  {
   "cell_type": "code",
   "execution_count": 30,
   "metadata": {
    "collapsed": false
   },
   "outputs": [
    {
     "data": {
      "text/plain": [
       "<matplotlib.text.Text at 0x11e01ac88>"
      ]
     },
     "execution_count": 30,
     "metadata": {},
     "output_type": "execute_result"
    },
    {
     "data": {
      "image/png": "[encoded data removed]",
      "text/plain": [
       "<matplotlib.figure.Figure at 0x11e0b0d68>"
      ]
     },
     "metadata": {},
     "output_type": "display_data"
    }
   ],
   "source": [
    "#check to make sure dummy regressor did what was expected(guess the same value every time)\n",
    "%matplotlib inline\n",
    "plt.plot(y_pred, y_true, 'k.')\n",
    "plt.xlabel(\"Predicted Points Tally\")\n",
    "plt.ylabel(\"Actual Points Tally\")"
   ]
  },
  {
   "cell_type": "code",
   "execution_count": 31,
   "metadata": {
    "collapsed": false
   },
   "outputs": [],
   "source": [
    "\n",
    " "
   ]
  },
  {
   "cell_type": "code",
   "execution_count": 36,
   "metadata": {
    "collapsed": false
   },
   "outputs": [
    {
     "name": "stdout",
     "output_type": "stream",
     "text": [
      "Mean Absolute Error: 12\n",
      "Mean Squared Error: 220\n"
     ]
    }
   ],
   "source": [
    "#load new, never seen before dataset, do grid search and then compute errors\n",
    "df6 = pd.read_csv('team_attributes_processed-2015-2016-raw_data.csv')\n",
    "X_new = df6.iloc[:, 3:-1]\n",
    "y_new = df6['Score']\n",
    "grid.fit(X, y)\n",
    "y_true, y_pred = y_new, grid.predict(X_new)\n",
    "mae = mean_absolute_error(y_true, y_pred)\n",
    "mse = mean_squared_error(y_true, y_pred)\n",
    "print ('Mean Absolute Error: %d' %(mae))\n",
    "print ('Mean Squared Error: %d' %(mse))"
   ]
  },
  {
   "cell_type": "code",
   "execution_count": 37,
   "metadata": {
    "collapsed": false
   },
   "outputs": [
    {
     "data": {
      "text/plain": [
       "<matplotlib.text.Text at 0x11dfa46d8>"
      ]
     },
     "execution_count": 37,
     "metadata": {},
     "output_type": "execute_result"
    },
    {
     "data": {
      "image/png": "[encoded data removed]",
      "text/plain": [
       "<matplotlib.figure.Figure at 0x11e270438>"
      ]
     },
     "metadata": {},
     "output_type": "display_data"
    }
   ],
   "source": [
    "%matplotlib inline\n",
    "plt.plot(y_pred, y_true, 'k.')\n",
    "plt.xlabel(\"Predicted Points Tally\")\n",
    "plt.ylabel(\"Actual Points Tally\")"
   ]
  },
  {
   "cell_type": "code",
   "execution_count": 38,
   "metadata": {
    "collapsed": false
   },
   "outputs": [
    {
     "name": "stdout",
     "output_type": "stream",
     "text": [
      "[ 52.8764  60.3984  52.8764  62.3224  52.8764  54.3324  52.0856  52.8764\n",
      "  52.8764  52.406   52.1324  60.0784  60.2564  53.1064  48.812   52.8764\n",
      "  52.8764  52.8764  52.8764  52.8764]\n",
      "0     81\n",
      "1     71\n",
      "2     70\n",
      "3     66\n",
      "4     66\n",
      "5     63\n",
      "6     62\n",
      "7     60\n",
      "8     51\n",
      "9     50\n",
      "10    47\n",
      "11    47\n",
      "12    45\n",
      "13    43\n",
      "14    42\n",
      "15    42\n",
      "16    39\n",
      "17    37\n",
      "18    34\n",
      "19    17\n",
      "Name: Score, dtype: int64\n"
     ]
    }
   ],
   "source": [
    "print (y_pred)\n",
    "print (y_true)"
   ]
  },
  {
   "cell_type": "code",
   "execution_count": null,
   "metadata": {
    "collapsed": true
   },
   "outputs": [],
   "source": []
  }
 ],
 "metadata": {
  "kernelspec": {
   "display_name": "Python 3",
   "language": "python",
   "name": "python3"
  },
  "language_info": {
   "codemirror_mode": {
    "name": "ipython",
    "version": 3
   },
   "file_extension": ".py",
   "mimetype": "text/x-python",
   "name": "python",
   "nbconvert_exporter": "python",
   "pygments_lexer": "ipython3",
   "version": "3.6.0"
  }
 },
 "nbformat": 4,
 "nbformat_minor": 2
}
