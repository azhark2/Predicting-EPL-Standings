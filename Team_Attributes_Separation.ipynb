{
 "cells": [
  {
   "cell_type": "markdown",
   "metadata": {},
   "source": [
    "# Team Attributes Separation  \n",
    "**Goal: to divide the data according to year**  "
   ]
  },
  {
   "cell_type": "code",
   "execution_count": 1,
   "metadata": {
    "collapsed": true
   },
   "outputs": [],
   "source": [
    "#import packages\n",
    "import numpy as np\n",
    "import pandas as pd"
   ]
  },
  {
   "cell_type": "code",
   "execution_count": 47,
   "metadata": {
    "collapsed": false
   },
   "outputs": [
    {
     "data": {
      "text/html": [
       "<div>\n",
       "<table border=\"1\" class=\"dataframe\">\n",
       "  <thead>\n",
       "    <tr style=\"text-align: right;\">\n",
       "      <th></th>\n",
       "      <th>index</th>\n",
       "      <th>id</th>\n",
       "      <th>team_fifa_api_id</th>\n",
       "      <th>team_api_id</th>\n",
       "      <th>buildUpPlaySpeed</th>\n",
       "      <th>buildUpPlayDribbling</th>\n",
       "      <th>buildUpPlayPassing</th>\n",
       "      <th>chanceCreationPassing</th>\n",
       "      <th>chanceCreationCrossing</th>\n",
       "      <th>chanceCreationShooting</th>\n",
       "      <th>...</th>\n",
       "      <th>chanceCreationCrossingClass</th>\n",
       "      <th>chanceCreationShootingClass</th>\n",
       "      <th>chanceCreationPositioningClass</th>\n",
       "      <th>defencePressureClass</th>\n",
       "      <th>defenceTeamWidthClass</th>\n",
       "      <th>defenceAggressionClass_Press</th>\n",
       "      <th>defenceAggressionClass_Double</th>\n",
       "      <th>defenceAggressionClass_Contain</th>\n",
       "      <th>defenceDefenderLineClass_Cover</th>\n",
       "      <th>defenceDefenderLineClass_Offside Trap</th>\n",
       "    </tr>\n",
       "  </thead>\n",
       "  <tbody>\n",
       "    <tr>\n",
       "      <th>0</th>\n",
       "      <td>0.0</td>\n",
       "      <td>1.0</td>\n",
       "      <td>434.0</td>\n",
       "      <td>9930.0</td>\n",
       "      <td>60.0</td>\n",
       "      <td>49.0</td>\n",
       "      <td>50.0</td>\n",
       "      <td>60.0</td>\n",
       "      <td>65.0</td>\n",
       "      <td>55.0</td>\n",
       "      <td>...</td>\n",
       "      <td>2</td>\n",
       "      <td>2</td>\n",
       "      <td>1</td>\n",
       "      <td>2</td>\n",
       "      <td>2</td>\n",
       "      <td>1</td>\n",
       "      <td>0</td>\n",
       "      <td>0</td>\n",
       "      <td>1</td>\n",
       "      <td>0</td>\n",
       "    </tr>\n",
       "    <tr>\n",
       "      <th>1</th>\n",
       "      <td>1.0</td>\n",
       "      <td>2.0</td>\n",
       "      <td>434.0</td>\n",
       "      <td>9930.0</td>\n",
       "      <td>52.0</td>\n",
       "      <td>48.0</td>\n",
       "      <td>56.0</td>\n",
       "      <td>54.0</td>\n",
       "      <td>63.0</td>\n",
       "      <td>64.0</td>\n",
       "      <td>...</td>\n",
       "      <td>2</td>\n",
       "      <td>2</td>\n",
       "      <td>1</td>\n",
       "      <td>2</td>\n",
       "      <td>2</td>\n",
       "      <td>1</td>\n",
       "      <td>0</td>\n",
       "      <td>0</td>\n",
       "      <td>1</td>\n",
       "      <td>0</td>\n",
       "    </tr>\n",
       "    <tr>\n",
       "      <th>2</th>\n",
       "      <td>2.0</td>\n",
       "      <td>3.0</td>\n",
       "      <td>434.0</td>\n",
       "      <td>9930.0</td>\n",
       "      <td>47.0</td>\n",
       "      <td>41.0</td>\n",
       "      <td>54.0</td>\n",
       "      <td>54.0</td>\n",
       "      <td>63.0</td>\n",
       "      <td>64.0</td>\n",
       "      <td>...</td>\n",
       "      <td>2</td>\n",
       "      <td>2</td>\n",
       "      <td>1</td>\n",
       "      <td>2</td>\n",
       "      <td>2</td>\n",
       "      <td>1</td>\n",
       "      <td>0</td>\n",
       "      <td>0</td>\n",
       "      <td>1</td>\n",
       "      <td>0</td>\n",
       "    </tr>\n",
       "    <tr>\n",
       "      <th>3</th>\n",
       "      <td>3.0</td>\n",
       "      <td>4.0</td>\n",
       "      <td>77.0</td>\n",
       "      <td>8485.0</td>\n",
       "      <td>70.0</td>\n",
       "      <td>49.0</td>\n",
       "      <td>70.0</td>\n",
       "      <td>70.0</td>\n",
       "      <td>70.0</td>\n",
       "      <td>70.0</td>\n",
       "      <td>...</td>\n",
       "      <td>3</td>\n",
       "      <td>3</td>\n",
       "      <td>1</td>\n",
       "      <td>2</td>\n",
       "      <td>3</td>\n",
       "      <td>0</td>\n",
       "      <td>1</td>\n",
       "      <td>0</td>\n",
       "      <td>1</td>\n",
       "      <td>0</td>\n",
       "    </tr>\n",
       "    <tr>\n",
       "      <th>4</th>\n",
       "      <td>4.0</td>\n",
       "      <td>5.0</td>\n",
       "      <td>77.0</td>\n",
       "      <td>8485.0</td>\n",
       "      <td>47.0</td>\n",
       "      <td>49.0</td>\n",
       "      <td>52.0</td>\n",
       "      <td>53.0</td>\n",
       "      <td>48.0</td>\n",
       "      <td>52.0</td>\n",
       "      <td>...</td>\n",
       "      <td>2</td>\n",
       "      <td>2</td>\n",
       "      <td>1</td>\n",
       "      <td>2</td>\n",
       "      <td>2</td>\n",
       "      <td>1</td>\n",
       "      <td>0</td>\n",
       "      <td>0</td>\n",
       "      <td>1</td>\n",
       "      <td>0</td>\n",
       "    </tr>\n",
       "  </tbody>\n",
       "</table>\n",
       "<p>5 rows × 29 columns</p>\n",
       "</div>"
      ],
      "text/plain": [
       "   index   id  team_fifa_api_id  team_api_id  buildUpPlaySpeed  \\\n",
       "0    0.0  1.0             434.0       9930.0              60.0   \n",
       "1    1.0  2.0             434.0       9930.0              52.0   \n",
       "2    2.0  3.0             434.0       9930.0              47.0   \n",
       "3    3.0  4.0              77.0       8485.0              70.0   \n",
       "4    4.0  5.0              77.0       8485.0              47.0   \n",
       "\n",
       "   buildUpPlayDribbling  buildUpPlayPassing  chanceCreationPassing  \\\n",
       "0                  49.0                50.0                   60.0   \n",
       "1                  48.0                56.0                   54.0   \n",
       "2                  41.0                54.0                   54.0   \n",
       "3                  49.0                70.0                   70.0   \n",
       "4                  49.0                52.0                   53.0   \n",
       "\n",
       "   chanceCreationCrossing  chanceCreationShooting  \\\n",
       "0                    65.0                    55.0   \n",
       "1                    63.0                    64.0   \n",
       "2                    63.0                    64.0   \n",
       "3                    70.0                    70.0   \n",
       "4                    48.0                    52.0   \n",
       "\n",
       "                   ...                    chanceCreationCrossingClass  \\\n",
       "0                  ...                                              2   \n",
       "1                  ...                                              2   \n",
       "2                  ...                                              2   \n",
       "3                  ...                                              3   \n",
       "4                  ...                                              2   \n",
       "\n",
       "   chanceCreationShootingClass  chanceCreationPositioningClass  \\\n",
       "0                            2                               1   \n",
       "1                            2                               1   \n",
       "2                            2                               1   \n",
       "3                            3                               1   \n",
       "4                            2                               1   \n",
       "\n",
       "  defencePressureClass  defenceTeamWidthClass  defenceAggressionClass_Press  \\\n",
       "0                    2                      2                             1   \n",
       "1                    2                      2                             1   \n",
       "2                    2                      2                             1   \n",
       "3                    2                      3                             0   \n",
       "4                    2                      2                             1   \n",
       "\n",
       "   defenceAggressionClass_Double  defenceAggressionClass_Contain  \\\n",
       "0                              0                               0   \n",
       "1                              0                               0   \n",
       "2                              0                               0   \n",
       "3                              1                               0   \n",
       "4                              0                               0   \n",
       "\n",
       "   defenceDefenderLineClass_Cover  defenceDefenderLineClass_Offside Trap  \n",
       "0                               1                                      0  \n",
       "1                               1                                      0  \n",
       "2                               1                                      0  \n",
       "3                               1                                      0  \n",
       "4                               1                                      0  \n",
       "\n",
       "[5 rows x 29 columns]"
      ]
     },
     "execution_count": 47,
     "metadata": {},
     "output_type": "execute_result"
    }
   ],
   "source": [
    "#import the data\n",
    "data = pd.read_csv('Team_Attributes_processed_ordinal.csv', index_col = 0)\n",
    "\n",
    "#preview it\n",
    "data.head()"
   ]
  },
  {
   "cell_type": "code",
   "execution_count": 13,
   "metadata": {
    "collapsed": false
   },
   "outputs": [
    {
     "data": {
      "text/plain": [
       "array(['2010-02-22 00:00:00', '2014-09-19 00:00:00', '2015-09-10 00:00:00',\n",
       "       '2011-02-22 00:00:00', '2012-02-22 00:00:00', '2013-09-20 00:00:00'], dtype=object)"
      ]
     },
     "execution_count": 13,
     "metadata": {},
     "output_type": "execute_result"
    }
   ],
   "source": [
    "#look at the uniques dates within the data\n",
    "data['date'].unique()"
   ]
  },
  {
   "cell_type": "code",
   "execution_count": 22,
   "metadata": {
    "collapsed": false
   },
   "outputs": [],
   "source": [
    "#now we're going to make the data associated with a single date it's own DataFrame\n",
    "\n",
    "#get the unique date values\n",
    "dates = data['date'].unique()\n",
    "\n",
    "#create a list to store the new DataFrames\n",
    "dataframes = []\n",
    "\n",
    "#loop through each date and extract the date associated with each date\n",
    "for i in dates:\n",
    "    new_data = data.loc[data['date'] == i].copy()\n",
    "    dataframes.append(new_data)"
   ]
  },
  {
   "cell_type": "code",
   "execution_count": 31,
   "metadata": {
    "collapsed": false
   },
   "outputs": [
    {
     "name": "stdout",
     "output_type": "stream",
     "text": [
      "Unique dates in DataFrame 0: ['2010-02-22 00:00:00']\n",
      "Unique dates in DataFrame 1: ['2014-09-19 00:00:00']\n",
      "Unique dates in DataFrame 2: ['2015-09-10 00:00:00']\n",
      "Unique dates in DataFrame 3: ['2011-02-22 00:00:00']\n",
      "Unique dates in DataFrame 4: ['2012-02-22 00:00:00']\n",
      "Unique dates in DataFrame 5: ['2013-09-20 00:00:00']\n"
     ]
    }
   ],
   "source": [
    "#now let's do a sanity check to make sure that we did what we wanted\n",
    "\n",
    "#we'll print the unique dates in each of the new DataFrames (should be 1 unique data for each one)\n",
    "\n",
    "for i in range(len(dataframes)):\n",
    "    print('Unique dates in DataFrame {}: {}'.format(i, dataframes[i]['date'].unique()))\n",
    "    "
   ]
  },
  {
   "cell_type": "code",
   "execution_count": 33,
   "metadata": {
    "collapsed": false
   },
   "outputs": [
    {
     "name": "stdout",
     "output_type": "stream",
     "text": [
      "There are a total of 1458 rows in the new DataFrames\n",
      "There are 1458 rows in the original DataFrame\n"
     ]
    }
   ],
   "source": [
    "#we also want to make sure that we didn't lose any data\n",
    "#we'll check to see that the sum of the length's of each of the new DataFrames is equal to the original\n",
    "\n",
    "total = 0\n",
    "for i in range(len(dataframes)):\n",
    "    total += dataframes[i].shape[0]\n",
    "    \n",
    "    \n",
    "print('There are a total of {} rows in the new DataFrames'.format(total))\n",
    "print('There are {} rows in the original DataFrame'.format(data.shape[0]))"
   ]
  },
  {
   "cell_type": "code",
   "execution_count": 51,
   "metadata": {
    "collapsed": false
   },
   "outputs": [],
   "source": [
    "#now we'll save each DataFrame into its own .csv file\n",
    "for i in range(len(dataframes)):\n",
    "    #get the data from the given DataFrame (YEAR-MONTH-DAY)\n",
    "    date = dataframes[i]['date'].unique()[0][:10]\n",
    "    \n",
    "    #combine this information to get the file name\n",
    "    name = 'Team_Attributes_' + date + '.csv'\n",
    "    \n",
    "    #now save the DataFrame to a .csv\n",
    "    dataframes[i].to_csv(name)"
   ]
  }
 ],
 "metadata": {
  "anaconda-cloud": {},
  "kernelspec": {
   "display_name": "Python 3",
   "language": "python",
   "name": "python3"
  },
  "language_info": {
   "codemirror_mode": {
    "name": "ipython",
    "version": 3
   },
   "file_extension": ".py",
   "mimetype": "text/x-python",
   "name": "python",
   "nbconvert_exporter": "python",
   "pygments_lexer": "ipython3",
   "version": "3.6.0"
  }
 },
 "nbformat": 4,
 "nbformat_minor": 1
}
