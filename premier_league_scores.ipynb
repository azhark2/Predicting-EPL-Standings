{
 "cells": [
  {
   "cell_type": "markdown",
   "metadata": {},
   "source": [
    "# Premier Leauge Scores  \n",
    "**Goal: to obtain the team scores over a number of seasons**"
   ]
  },
  {
   "cell_type": "code",
   "execution_count": 1,
   "metadata": {
    "collapsed": true
   },
   "outputs": [],
   "source": [
    "#import packages\n",
    "from bs4 import BeautifulSoup\n",
    "import pandas as pd\n",
    "import requests\n",
    "import time\n",
    "import urllib\n",
    "import random\n",
    "import re\n",
    "import time"
   ]
  },
  {
   "cell_type": "code",
   "execution_count": 2,
   "metadata": {
    "collapsed": true
   },
   "outputs": [],
   "source": [
    "#this is our url of interest (2016/2017 season)\n",
    "url = 'https://www.premierleague.com/tables?co=1&se=54&mw=-1&ha=-1'\n",
    "\n",
    "#get the url information and store it in r\n",
    "r = requests.get(url)\n",
    "\n",
    "#get the html text from the website\n",
    "data = r.text\n",
    "\n",
    "#initiate a BeautifulSoup object with our html data\n",
    "soup = BeautifulSoup(data, 'html.parser')\n",
    "\n"
   ]
  },
  {
   "cell_type": "code",
   "execution_count": 26,
   "metadata": {
    "collapsed": false
   },
   "outputs": [],
   "source": [
    "#this list will store our team names\n",
    "team = []\n",
    "\n",
    "#this list will store the score associated with each team\n",
    "points = []\n",
    "\n",
    "#loop through the first 20 entries (the scraper pulls information from First Team, PL2, U18)\n",
    "for i in range(0,20):\n",
    "    #this gives us the team name\n",
    "    team.append(str(soup.find_all('span', class_ = 'long')[i].text))\n",
    "    \n",
    "    #this gives us the correspoding score\n",
    "    points.append(int(soup.find_all('td', class_ = 'points')[i].text))"
   ]
  },
  {
   "cell_type": "code",
   "execution_count": 30,
   "metadata": {
    "collapsed": false
   },
   "outputs": [
    {
     "name": "stdout",
     "output_type": "stream",
     "text": [
      "Chelsea 81\n",
      "Tottenham Hotspur 77\n",
      "Liverpool 69\n",
      "Manchester City 66\n",
      "Manchester United 65\n",
      "Arsenal 60\n",
      "Everton 58\n",
      "West Bromwich Albion 44\n",
      "Southampton 41\n",
      "Bournemouth 41\n",
      "Leicester City 40\n",
      "Stoke City 40\n",
      "Watford 40\n",
      "Burnley 39\n",
      "West Ham United 39\n",
      "Crystal Palace 38\n",
      "Hull City 34\n",
      "Swansea City 32\n",
      "Middlesbrough 28\n",
      "Sunderland 21\n"
     ]
    }
   ],
   "source": [
    "#print team name and score for a sanity check\n",
    "for i,j in zip(team, points):\n",
    "    print(i,j)"
   ]
  },
  {
   "cell_type": "code",
   "execution_count": 34,
   "metadata": {
    "collapsed": false
   },
   "outputs": [
    {
     "data": {
      "text/html": [
       "<div>\n",
       "<table border=\"1\" class=\"dataframe\">\n",
       "  <thead>\n",
       "    <tr style=\"text-align: right;\">\n",
       "      <th></th>\n",
       "      <th>Score</th>\n",
       "      <th>Team</th>\n",
       "    </tr>\n",
       "  </thead>\n",
       "  <tbody>\n",
       "    <tr>\n",
       "      <th>0</th>\n",
       "      <td>81</td>\n",
       "      <td>Chelsea</td>\n",
       "    </tr>\n",
       "    <tr>\n",
       "      <th>1</th>\n",
       "      <td>77</td>\n",
       "      <td>Tottenham Hotspur</td>\n",
       "    </tr>\n",
       "    <tr>\n",
       "      <th>2</th>\n",
       "      <td>69</td>\n",
       "      <td>Liverpool</td>\n",
       "    </tr>\n",
       "    <tr>\n",
       "      <th>3</th>\n",
       "      <td>66</td>\n",
       "      <td>Manchester City</td>\n",
       "    </tr>\n",
       "    <tr>\n",
       "      <th>4</th>\n",
       "      <td>65</td>\n",
       "      <td>Manchester United</td>\n",
       "    </tr>\n",
       "    <tr>\n",
       "      <th>5</th>\n",
       "      <td>60</td>\n",
       "      <td>Arsenal</td>\n",
       "    </tr>\n",
       "    <tr>\n",
       "      <th>6</th>\n",
       "      <td>58</td>\n",
       "      <td>Everton</td>\n",
       "    </tr>\n",
       "    <tr>\n",
       "      <th>7</th>\n",
       "      <td>44</td>\n",
       "      <td>West Bromwich Albion</td>\n",
       "    </tr>\n",
       "    <tr>\n",
       "      <th>8</th>\n",
       "      <td>41</td>\n",
       "      <td>Southampton</td>\n",
       "    </tr>\n",
       "    <tr>\n",
       "      <th>9</th>\n",
       "      <td>41</td>\n",
       "      <td>Bournemouth</td>\n",
       "    </tr>\n",
       "    <tr>\n",
       "      <th>10</th>\n",
       "      <td>40</td>\n",
       "      <td>Leicester City</td>\n",
       "    </tr>\n",
       "    <tr>\n",
       "      <th>11</th>\n",
       "      <td>40</td>\n",
       "      <td>Stoke City</td>\n",
       "    </tr>\n",
       "    <tr>\n",
       "      <th>12</th>\n",
       "      <td>40</td>\n",
       "      <td>Watford</td>\n",
       "    </tr>\n",
       "    <tr>\n",
       "      <th>13</th>\n",
       "      <td>39</td>\n",
       "      <td>Burnley</td>\n",
       "    </tr>\n",
       "    <tr>\n",
       "      <th>14</th>\n",
       "      <td>39</td>\n",
       "      <td>West Ham United</td>\n",
       "    </tr>\n",
       "    <tr>\n",
       "      <th>15</th>\n",
       "      <td>38</td>\n",
       "      <td>Crystal Palace</td>\n",
       "    </tr>\n",
       "    <tr>\n",
       "      <th>16</th>\n",
       "      <td>34</td>\n",
       "      <td>Hull City</td>\n",
       "    </tr>\n",
       "    <tr>\n",
       "      <th>17</th>\n",
       "      <td>32</td>\n",
       "      <td>Swansea City</td>\n",
       "    </tr>\n",
       "    <tr>\n",
       "      <th>18</th>\n",
       "      <td>28</td>\n",
       "      <td>Middlesbrough</td>\n",
       "    </tr>\n",
       "    <tr>\n",
       "      <th>19</th>\n",
       "      <td>21</td>\n",
       "      <td>Sunderland</td>\n",
       "    </tr>\n",
       "  </tbody>\n",
       "</table>\n",
       "</div>"
      ],
      "text/plain": [
       "    Score                  Team\n",
       "0      81               Chelsea\n",
       "1      77     Tottenham Hotspur\n",
       "2      69             Liverpool\n",
       "3      66       Manchester City\n",
       "4      65     Manchester United\n",
       "5      60               Arsenal\n",
       "6      58               Everton\n",
       "7      44  West Bromwich Albion\n",
       "8      41           Southampton\n",
       "9      41           Bournemouth\n",
       "10     40        Leicester City\n",
       "11     40            Stoke City\n",
       "12     40               Watford\n",
       "13     39               Burnley\n",
       "14     39       West Ham United\n",
       "15     38        Crystal Palace\n",
       "16     34             Hull City\n",
       "17     32          Swansea City\n",
       "18     28         Middlesbrough\n",
       "19     21            Sunderland"
      ]
     },
     "execution_count": 34,
     "metadata": {},
     "output_type": "execute_result"
    }
   ],
   "source": [
    "pd.DataFrame({'Team': team, 'Score': points})"
   ]
  },
  {
   "cell_type": "code",
   "execution_count": null,
   "metadata": {
    "collapsed": true
   },
   "outputs": [],
   "source": []
  }
 ],
 "metadata": {
  "anaconda-cloud": {},
  "kernelspec": {
   "display_name": "Python 3",
   "language": "python",
   "name": "python3"
  },
  "language_info": {
   "codemirror_mode": {
    "name": "ipython",
    "version": 3
   },
   "file_extension": ".py",
   "mimetype": "text/x-python",
   "name": "python",
   "nbconvert_exporter": "python",
   "pygments_lexer": "ipython3",
   "version": "3.6.0"
  }
 },
 "nbformat": 4,
 "nbformat_minor": 1
}
